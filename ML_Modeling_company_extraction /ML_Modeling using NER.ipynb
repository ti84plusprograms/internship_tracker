{
 "cells": [
  {
   "cell_type": "code",
   "execution_count": 1,
   "metadata": {
    "vscode": {
     "languageId": "shellscript"
    }
   },
   "outputs": [
    {
     "name": "stdout",
     "output_type": "stream",
     "text": [
      "Requirement already satisfied: spacy in /Users/ary/anaconda3/lib/python3.11/site-packages (3.8.3)\n",
      "Requirement already satisfied: spacy-legacy<3.1.0,>=3.0.11 in /Users/ary/anaconda3/lib/python3.11/site-packages (from spacy) (3.0.12)\n",
      "Requirement already satisfied: spacy-loggers<2.0.0,>=1.0.0 in /Users/ary/anaconda3/lib/python3.11/site-packages (from spacy) (1.0.5)\n",
      "Requirement already satisfied: murmurhash<1.1.0,>=0.28.0 in /Users/ary/anaconda3/lib/python3.11/site-packages (from spacy) (1.0.11)\n",
      "Requirement already satisfied: cymem<2.1.0,>=2.0.2 in /Users/ary/anaconda3/lib/python3.11/site-packages (from spacy) (2.0.10)\n",
      "Requirement already satisfied: preshed<3.1.0,>=3.0.2 in /Users/ary/anaconda3/lib/python3.11/site-packages (from spacy) (3.0.9)\n",
      "Requirement already satisfied: thinc<8.4.0,>=8.3.0 in /Users/ary/anaconda3/lib/python3.11/site-packages (from spacy) (8.3.3)\n",
      "Requirement already satisfied: wasabi<1.2.0,>=0.9.1 in /Users/ary/anaconda3/lib/python3.11/site-packages (from spacy) (1.1.3)\n",
      "Requirement already satisfied: srsly<3.0.0,>=2.4.3 in /Users/ary/anaconda3/lib/python3.11/site-packages (from spacy) (2.5.0)\n",
      "Requirement already satisfied: catalogue<2.1.0,>=2.0.6 in /Users/ary/anaconda3/lib/python3.11/site-packages (from spacy) (2.0.10)\n",
      "Requirement already satisfied: weasel<0.5.0,>=0.1.0 in /Users/ary/anaconda3/lib/python3.11/site-packages (from spacy) (0.4.1)\n",
      "Requirement already satisfied: typer<1.0.0,>=0.3.0 in /Users/ary/anaconda3/lib/python3.11/site-packages (from spacy) (0.15.1)\n",
      "Requirement already satisfied: tqdm<5.0.0,>=4.38.0 in /Users/ary/anaconda3/lib/python3.11/site-packages (from spacy) (4.65.0)\n",
      "Requirement already satisfied: numpy>=1.19.0 in /Users/ary/anaconda3/lib/python3.11/site-packages (from spacy) (1.26.3)\n",
      "Requirement already satisfied: requests<3.0.0,>=2.13.0 in /Users/ary/anaconda3/lib/python3.11/site-packages (from spacy) (2.31.0)\n",
      "Requirement already satisfied: pydantic!=1.8,!=1.8.1,<3.0.0,>=1.7.4 in /Users/ary/anaconda3/lib/python3.11/site-packages (from spacy) (1.10.12)\n",
      "Requirement already satisfied: jinja2 in /Users/ary/anaconda3/lib/python3.11/site-packages (from spacy) (3.1.3)\n",
      "Requirement already satisfied: setuptools in /Users/ary/anaconda3/lib/python3.11/site-packages (from spacy) (68.0.0)\n",
      "Requirement already satisfied: packaging>=20.0 in /Users/ary/anaconda3/lib/python3.11/site-packages (from spacy) (23.1)\n",
      "Requirement already satisfied: langcodes<4.0.0,>=3.2.0 in /Users/ary/anaconda3/lib/python3.11/site-packages (from spacy) (3.5.0)\n",
      "Requirement already satisfied: language-data>=1.2 in /Users/ary/anaconda3/lib/python3.11/site-packages (from langcodes<4.0.0,>=3.2.0->spacy) (1.3.0)\n",
      "Requirement already satisfied: typing-extensions>=4.2.0 in /Users/ary/anaconda3/lib/python3.11/site-packages (from pydantic!=1.8,!=1.8.1,<3.0.0,>=1.7.4->spacy) (4.9.0)\n",
      "Requirement already satisfied: charset-normalizer<4,>=2 in /Users/ary/anaconda3/lib/python3.11/site-packages (from requests<3.0.0,>=2.13.0->spacy) (2.0.4)\n",
      "Requirement already satisfied: idna<4,>=2.5 in /Users/ary/anaconda3/lib/python3.11/site-packages (from requests<3.0.0,>=2.13.0->spacy) (3.4)\n",
      "Requirement already satisfied: urllib3<3,>=1.21.1 in /Users/ary/anaconda3/lib/python3.11/site-packages (from requests<3.0.0,>=2.13.0->spacy) (2.0.7)\n",
      "Requirement already satisfied: certifi>=2017.4.17 in /Users/ary/anaconda3/lib/python3.11/site-packages (from requests<3.0.0,>=2.13.0->spacy) (2024.2.2)\n",
      "Requirement already satisfied: blis<1.2.0,>=1.1.0 in /Users/ary/anaconda3/lib/python3.11/site-packages (from thinc<8.4.0,>=8.3.0->spacy) (1.1.0)\n",
      "Requirement already satisfied: confection<1.0.0,>=0.0.1 in /Users/ary/anaconda3/lib/python3.11/site-packages (from thinc<8.4.0,>=8.3.0->spacy) (0.1.5)\n",
      "Requirement already satisfied: click>=8.0.0 in /Users/ary/anaconda3/lib/python3.11/site-packages (from typer<1.0.0,>=0.3.0->spacy) (8.1.7)\n",
      "Requirement already satisfied: shellingham>=1.3.0 in /Users/ary/anaconda3/lib/python3.11/site-packages (from typer<1.0.0,>=0.3.0->spacy) (1.5.4)\n",
      "Requirement already satisfied: rich>=10.11.0 in /Users/ary/anaconda3/lib/python3.11/site-packages (from typer<1.0.0,>=0.3.0->spacy) (13.3.5)\n",
      "Requirement already satisfied: cloudpathlib<1.0.0,>=0.7.0 in /Users/ary/anaconda3/lib/python3.11/site-packages (from weasel<0.5.0,>=0.1.0->spacy) (0.20.0)\n",
      "Requirement already satisfied: smart-open<8.0.0,>=5.2.1 in /Users/ary/anaconda3/lib/python3.11/site-packages (from weasel<0.5.0,>=0.1.0->spacy) (5.2.1)\n",
      "Requirement already satisfied: MarkupSafe>=2.0 in /Users/ary/anaconda3/lib/python3.11/site-packages (from jinja2->spacy) (2.1.3)\n",
      "Requirement already satisfied: marisa-trie>=1.1.0 in /Users/ary/anaconda3/lib/python3.11/site-packages (from language-data>=1.2->langcodes<4.0.0,>=3.2.0->spacy) (1.2.1)\n",
      "Requirement already satisfied: markdown-it-py<3.0.0,>=2.2.0 in /Users/ary/anaconda3/lib/python3.11/site-packages (from rich>=10.11.0->typer<1.0.0,>=0.3.0->spacy) (2.2.0)\n",
      "Requirement already satisfied: pygments<3.0.0,>=2.13.0 in /Users/ary/anaconda3/lib/python3.11/site-packages (from rich>=10.11.0->typer<1.0.0,>=0.3.0->spacy) (2.15.1)\n",
      "Requirement already satisfied: mdurl~=0.1 in /Users/ary/anaconda3/lib/python3.11/site-packages (from markdown-it-py<3.0.0,>=2.2.0->rich>=10.11.0->typer<1.0.0,>=0.3.0->spacy) (0.1.0)\n"
     ]
    }
   ],
   "source": [
    "!pip install spacy"
   ]
  },
  {
   "cell_type": "code",
   "execution_count": 12,
   "metadata": {
    "vscode": {
     "languageId": "shellscript"
    }
   },
   "outputs": [
    {
     "name": "stdout",
     "output_type": "stream",
     "text": [
      "Collecting en-core-web-sm==3.8.0\n",
      "  Downloading https://github.com/explosion/spacy-models/releases/download/en_core_web_sm-3.8.0/en_core_web_sm-3.8.0-py3-none-any.whl (12.8 MB)\n",
      "\u001b[2K     \u001b[90m━━━━━━━━━━━━━━━━━━━━━━━━━━━━━━━━━━━━━━━━\u001b[0m \u001b[32m12.8/12.8 MB\u001b[0m \u001b[31m19.6 MB/s\u001b[0m eta \u001b[36m0:00:00\u001b[0m00:01\u001b[0m00:01\u001b[0m\n",
      "\u001b[?25h\u001b[38;5;2m✔ Download and installation successful\u001b[0m\n",
      "You can now load the package via spacy.load('en_core_web_sm')\n"
     ]
    }
   ],
   "source": [
    "!python -m spacy download en_core_web_sm"
   ]
  },
  {
   "cell_type": "code",
   "execution_count": 3,
   "metadata": {},
   "outputs": [],
   "source": [
    "import spacy\n",
    "from spacy import displacy\n",
    "from spacy.tokens import DocBin\n",
    "\n",
    "nlp = spacy.load(\"en_core_web_sm\")"
   ]
  },
  {
   "cell_type": "code",
   "execution_count": 40,
   "metadata": {
    "vscode": {
     "languageId": "shellscript"
    }
   },
   "outputs": [
    {
     "name": "stdout",
     "output_type": "stream",
     "text": [
      "\u001b[38;5;2m✔ Generated output file (1 documents): formatted_annotations.spacy\u001b[0m\n"
     ]
    }
   ],
   "source": [
    "!python -m spacy convert ./formatted_annotations.json ."
   ]
  },
  {
   "cell_type": "code",
   "execution_count": 35,
   "metadata": {},
   "outputs": [
    {
     "name": "stdout",
     "output_type": "stream",
     "text": [
      "Formatted JSON data saved to './formatted_annotations.json'\n"
     ]
    }
   ],
   "source": [
    "# Correct json format returned by NER Text Annotator \n",
    "import json\n",
    "\n",
    "# Path to the input JSON file\n",
    "input_json_file_path = './annotations.json'\n",
    "\n",
    "# Path to the output JSON file\n",
    "output_json_file_path = './formatted_annotations.json'\n",
    "\n",
    "# Load the input JSON file\n",
    "with open(input_json_file_path, 'r') as file:\n",
    "    data = json.load(file)\n",
    "\n",
    "# Extract classes and annotations\n",
    "classes = data['classes']\n",
    "annotations = data['annotations']\n",
    "\n",
    "# Transform the data into the correct format\n",
    "formatted_data = []\n",
    "for i, annotation in enumerate(annotations):\n",
    "    text = annotation[0]\n",
    "    entities = annotation[1]['entities']\n",
    "    ents = []\n",
    "    for entity in entities:\n",
    "        start = entity[0]\n",
    "        end = entity[1]\n",
    "        label = entity[2]\n",
    "        ents.append({\"start\": start, \"end\": end, \"label\": label})\n",
    "    formatted_data.append({\n",
    "        \"id\": i - 1,\n",
    "        \"paragraphs\": [\n",
    "            {\n",
    "                \"raw\": text,\n",
    "                \"sentences\": [],\n",
    "                \"entities\": ents\n",
    "            }\n",
    "        ]\n",
    "    })\n",
    "formatted_data.pop(0)\n",
    "\n",
    "# Save the formatted data to the output JSON file\n",
    "with open(output_json_file_path, 'w') as file:\n",
    "    json.dump(formatted_data, file, indent=2)\n",
    "\n",
    "print(f\"Formatted JSON data saved to '{output_json_file_path}'\")"
   ]
  },
  {
   "cell_type": "code",
   "execution_count": 4,
   "metadata": {},
   "outputs": [],
   "source": [
    "import pandas as pd\n",
    "\n",
    "dataset = \"Internship Tracker - ML_Dataset.csv\"\n",
    "# Load the dataset\n",
    "data = pd.read_csv(dataset)"
   ]
  },
  {
   "cell_type": "code",
   "execution_count": 5,
   "metadata": {},
   "outputs": [
    {
     "name": "stdout",
     "output_type": "stream",
     "text": [
      "Jane Street Application Received. Thanks for applying to Stripe! Aaryaman, Thanks for Applying for Salesforce's Summer 2025 Intern - Software Engineer. Aaryaman, your application was sent to American Institute of Insurance Research. Your application was viewed by [P1] Games. Aaryaman, your application was sent to [P1] Games. Aaryaman, your application was sent to Vantiva. Aaryaman, your application was sent to Hangtight. Your application was viewed by TuneTunnel. Aaryaman, your application was sent to TuneTunnel. Your application was viewed by Rayca Precision. Your application to Software Engineer Intern at Boostability. Aaryaman, your application was sent to Rayca Precision. Aaryaman, your application was sent to Collabera. Aaryaman, your application was sent to Boostability. Your application to Software Engineer Intern at Scoper Inc. Your application to AI/ML Engineer Intern - Fall 2024 at Cranium. Aaryaman, your application was sent to Scoper. Aaryaman, your application was sent to Momentus Technologies. Aaryaman, your application was sent to Blooket. Aaryaman, your application was sent to Cranium. Aaryaman, your application was sent to INDI Staffing Services. Thank you for your application. Thank you for your application. Thank you for your application to HHAeXchange! Update on your application. Aaryaman, your application was sent to American Institute of Insurance Research. Your application was viewed by [P1] Games. Aaryaman, your application was sent to [P1] Games. Amazon application: Status update. Your application for our Software Engineer, Intern (Summer & Winter) role at Stripe. Update on your TikTok application. Roadz has received your application. Jane Street Application Received. Important information about your application to Fortra- Intern IBM i. Aaryaman, your application was sent to Vantiva. Your Application Status with HHAeXchange. Aaryaman, your application was sent to Hangtight. Thank you for your application to HHAeXchange! Your application was viewed by TuneTunnel. Aaryaman, your application was sent to TuneTunnel. Your application was viewed by Rayca Precision. Your application to Software Engineer Intern at Boostability. Aaryaman, your application was sent to Rayca Precision. Aaryaman, your application was sent to Collabera. Aaryaman, your application was sent to Boostability. Keep track of your application. Your application to Software Engineer Intern at Scoper Inc. Your application to AI/ML Engineer Intern - Fall 2024 at Cranium. Aaryaman, your application was sent to Scoper. Aaryaman, your application was sent to Momentus Technologies. Your BMO Alto application has been declined. Aaryaman, your application was sent to Blooket. Aaryaman, your application was sent to Cranium. Important information about your application to Coinbase. Aaryaman, your application was sent to INDI Staffing Services. Important information about your application to Fortra- Intern IBM i. Thank you for your application to HHAeXchange! Your application to Software Engineer Intern at Boostability. Your application to Scale AI was sent 🙌. Your application to Software Engineer Intern at Scoper Inc. Your application to AI/ML Engineer Intern - Fall 2024 at Cranium. Important information about your application to Coinbase. Regarding your application to Coinbase Careers Page.\n"
     ]
    }
   ],
   "source": [
    "# Function to ensure each subject ends with punctuation\n",
    "def ensure_punctuation(subject):\n",
    "    if subject[-1] not in '.!?':\n",
    "        return subject + '.'\n",
    "    return subject\n",
    "\n",
    "# Apply the function to each subject and join with a space\n",
    "text = \" \".join(ensure_punctuation(subject) for subject in data['email subject'])\n",
    "print(text)"
   ]
  },
  {
   "cell_type": "code",
   "execution_count": 6,
   "metadata": {
    "vscode": {
     "languageId": "powershell"
    }
   },
   "outputs": [],
   "source": [
    "with open('email_subjects.txt', 'w') as file:\n",
    "    file.write(text)"
   ]
  },
  {
   "cell_type": "code",
   "execution_count": 38,
   "metadata": {},
   "outputs": [
    {
     "name": "stdout",
     "output_type": "stream",
     "text": [
      "File loaded successfully.\n",
      "Number of documents: 1\n"
     ]
    }
   ],
   "source": [
    "annotations_file = \"./formatted_annotations.spacy\"\n",
    "try:\n",
    "    doc_bin = DocBin().from_disk(annotations_file)\n",
    "    print(\"File loaded successfully.\")\n",
    "except Exception as e:\n",
    "    print(f\"Error loading file: {e}\")\n",
    "docs = list(doc_bin.get_docs(nlp.vocab))\n",
    "print(f\"Number of documents: {len(docs)}\")"
   ]
  },
  {
   "cell_type": "code",
   "execution_count": 39,
   "metadata": {},
   "outputs": [
    {
     "name": "stdout",
     "output_type": "stream",
     "text": [
      "Document text: \n"
     ]
    }
   ],
   "source": [
    "for doc in docs:\n",
    "    print(f\"Document text: {doc.text}\")\n",
    "    for ent in doc.ents:\n",
    "        print(f\"Entity: {ent.text}, Label: {ent.label_}\")"
   ]
  }
 ],
 "metadata": {
  "kernelspec": {
   "display_name": "Python 3",
   "language": "python",
   "name": "python3"
  },
  "language_info": {
   "codemirror_mode": {
    "name": "ipython",
    "version": 3
   },
   "file_extension": ".py",
   "mimetype": "text/x-python",
   "name": "python",
   "nbconvert_exporter": "python",
   "pygments_lexer": "ipython3",
   "version": "3.11.5"
  }
 },
 "nbformat": 4,
 "nbformat_minor": 2
}
