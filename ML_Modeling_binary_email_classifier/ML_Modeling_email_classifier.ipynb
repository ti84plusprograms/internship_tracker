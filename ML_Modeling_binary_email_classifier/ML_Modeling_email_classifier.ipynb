{
 "cells": [
  {
   "cell_type": "code",
   "execution_count": null,
   "metadata": {
    "vscode": {
     "languageId": "powershell"
    }
   },
   "outputs": [
    {
     "name": "stdout",
     "output_type": "stream",
     "text": [
      "Requirement already satisfied: pandas in /Users/ary/anaconda3/lib/python3.11/site-packages (2.1.4)\n",
      "Requirement already satisfied: numpy<2,>=1.23.2 in /Users/ary/anaconda3/lib/python3.11/site-packages (from pandas) (1.26.3)\n",
      "Requirement already satisfied: python-dateutil>=2.8.2 in /Users/ary/anaconda3/lib/python3.11/site-packages (from pandas) (2.8.2)\n",
      "Requirement already satisfied: pytz>=2020.1 in /Users/ary/anaconda3/lib/python3.11/site-packages (from pandas) (2023.3.post1)\n",
      "Requirement already satisfied: tzdata>=2022.1 in /Users/ary/anaconda3/lib/python3.11/site-packages (from pandas) (2023.3)\n",
      "Requirement already satisfied: six>=1.5 in /Users/ary/anaconda3/lib/python3.11/site-packages (from python-dateutil>=2.8.2->pandas) (1.16.0)\n",
      "Requirement already satisfied: numpy in /Users/ary/anaconda3/lib/python3.11/site-packages (1.26.3)\n",
      "Requirement already satisfied: matplotlib in /Users/ary/anaconda3/lib/python3.11/site-packages (3.8.0)\n",
      "Requirement already satisfied: contourpy>=1.0.1 in /Users/ary/anaconda3/lib/python3.11/site-packages (from matplotlib) (1.2.0)\n",
      "Requirement already satisfied: cycler>=0.10 in /Users/ary/anaconda3/lib/python3.11/site-packages (from matplotlib) (0.11.0)\n",
      "Requirement already satisfied: fonttools>=4.22.0 in /Users/ary/anaconda3/lib/python3.11/site-packages (from matplotlib) (4.25.0)\n",
      "Requirement already satisfied: kiwisolver>=1.0.1 in /Users/ary/anaconda3/lib/python3.11/site-packages (from matplotlib) (1.4.4)\n",
      "Requirement already satisfied: numpy<2,>=1.21 in /Users/ary/anaconda3/lib/python3.11/site-packages (from matplotlib) (1.26.3)\n",
      "Requirement already satisfied: packaging>=20.0 in /Users/ary/anaconda3/lib/python3.11/site-packages (from matplotlib) (23.1)\n",
      "Requirement already satisfied: pillow>=6.2.0 in /Users/ary/anaconda3/lib/python3.11/site-packages (from matplotlib) (10.2.0)\n",
      "Requirement already satisfied: pyparsing>=2.3.1 in /Users/ary/anaconda3/lib/python3.11/site-packages (from matplotlib) (3.0.9)\n",
      "Requirement already satisfied: python-dateutil>=2.7 in /Users/ary/anaconda3/lib/python3.11/site-packages (from matplotlib) (2.8.2)\n",
      "Requirement already satisfied: six>=1.5 in /Users/ary/anaconda3/lib/python3.11/site-packages (from python-dateutil>=2.7->matplotlib) (1.16.0)\n",
      "Requirement already satisfied: nltk in /Users/ary/anaconda3/lib/python3.11/site-packages (3.8.1)\n",
      "Requirement already satisfied: click in /Users/ary/anaconda3/lib/python3.11/site-packages (from nltk) (8.1.7)\n",
      "Requirement already satisfied: joblib in /Users/ary/anaconda3/lib/python3.11/site-packages (from nltk) (1.2.0)\n",
      "Requirement already satisfied: regex>=2021.8.3 in /Users/ary/anaconda3/lib/python3.11/site-packages (from nltk) (2023.10.3)\n",
      "Requirement already satisfied: tqdm in /Users/ary/anaconda3/lib/python3.11/site-packages (from nltk) (4.65.0)\n"
     ]
    }
   ],
   "source": [
    "!pip install pandas\n",
    "!pip install numpy\n",
    "!pip install matplotlib\n",
    "!pip install nltk"
   ]
  },
  {
   "cell_type": "code",
   "execution_count": 6,
   "metadata": {},
   "outputs": [],
   "source": [
    "import pandas as pd"
   ]
  },
  {
   "cell_type": "code",
   "execution_count": 754,
   "metadata": {},
   "outputs": [],
   "source": [
    "import os\n",
    "naming_convention = \"ML_Dataset_email_classifier_\"\n",
    "folder_path = \"datasets\"\n",
    "\n",
    "# Get the list of all files in the folder\n",
    "all_files = os.listdir(folder_path)\n",
    "dataset_files = [os.path.join(folder_path, file) for file in all_files]\n",
    "dataset_files.sort(key=os.path.getctime, reverse=True)"
   ]
  },
  {
   "cell_type": "code",
   "execution_count": null,
   "metadata": {},
   "outputs": [],
   "source": [
    "# # initialize datasets here\n",
    "# dataset = \"Internship Tracker - ML_Dataset_email_classifier.csv\"\n",
    "# dataset_kavya = \"ML_Dataset_email_classifier_kavya.csv\"\n",
    "# dataset_hamza = \"ML_Dataset_email_classifier_hamza.csv\"\n",
    "# dataset_ary = \"ML_Dataset_email_classifier_new_ary.csv\"\n",
    "# dataset_sankaet = \"ML_Dataset_email_classifier_sankaet.csv\""
   ]
  },
  {
   "cell_type": "code",
   "execution_count": 870,
   "metadata": {},
   "outputs": [
    {
     "name": "stdout",
     "output_type": "stream",
     "text": [
      "dict_keys(['dataset_yoomin', 'dataset_muskan', 'dataset_sankaet', 'dataset_original', 'dataset_hamza', 'dataset_ary', 'dataset_kavya'])\n"
     ]
    }
   ],
   "source": [
    "def read_datasets(dataset_files):\n",
    "    datasets = {}\n",
    "    for file in dataset_files:\n",
    "        name = \"dataset_\" + file.split(\"/\")[-1].split(\".\")[0].split(\"_\")[-1]\n",
    "        datasets[name] = pd.read_csv(file)\n",
    "    return datasets\n",
    "datasets = read_datasets(dataset_files)\n",
    "print(datasets.keys())\n",
    "\n",
    "added_datasets = set()"
   ]
  },
  {
   "cell_type": "code",
   "execution_count": 871,
   "metadata": {},
   "outputs": [
    {
     "name": "stdout",
     "output_type": "stream",
     "text": [
      "{'dataset_muskan', 'dataset_sankaet', 'dataset_ary', 'dataset_hamza', 'dataset_kavya'}\n"
     ]
    }
   ],
   "source": [
    "# Load the dataset\n",
    "# create empty dataframe\n",
    "# data = pd.DataFrame() # to reset the data\n",
    "for index, (name, dataset) in enumerate(datasets.items()):\n",
    "    if name == \"dataset_original\" or index == 0:\n",
    "        #skip over the original dataset\n",
    "        continue\n",
    "    elif name not in added_datasets:\n",
    "        data = pd.concat([data, datasets[name]], ignore_index=True)\n",
    "        added_datasets.add(name)\n",
    "\n",
    "print(added_datasets)"
   ]
  },
  {
   "cell_type": "code",
   "execution_count": 872,
   "metadata": {},
   "outputs": [
    {
     "name": "stdout",
     "output_type": "stream",
     "text": [
      "<class 'pandas.core.frame.DataFrame'>\n",
      "RangeIndex: 3719 entries, 0 to 3718\n",
      "Data columns (total 5 columns):\n",
      " #   Column                                   Non-Null Count  Dtype  \n",
      "---  ------                                   --------------  -----  \n",
      " 0   email subject                            3719 non-null   object \n",
      " 1   email body                               3718 non-null   object \n",
      " 2   binary classification (expected output)  1843 non-null   float64\n",
      " 3   cleaned email subject                    905 non-null    object \n",
      " 4   cleaned email body                       905 non-null    object \n",
      "dtypes: float64(1), object(4)\n",
      "memory usage: 145.4+ KB\n"
     ]
    },
    {
     "data": {
      "text/html": [
       "<div>\n",
       "<style scoped>\n",
       "    .dataframe tbody tr th:only-of-type {\n",
       "        vertical-align: middle;\n",
       "    }\n",
       "\n",
       "    .dataframe tbody tr th {\n",
       "        vertical-align: top;\n",
       "    }\n",
       "\n",
       "    .dataframe thead th {\n",
       "        text-align: right;\n",
       "    }\n",
       "</style>\n",
       "<table border=\"1\" class=\"dataframe\">\n",
       "  <thead>\n",
       "    <tr style=\"text-align: right;\">\n",
       "      <th></th>\n",
       "      <th>binary classification (expected output)</th>\n",
       "    </tr>\n",
       "  </thead>\n",
       "  <tbody>\n",
       "    <tr>\n",
       "      <th>count</th>\n",
       "      <td>1843.000000</td>\n",
       "    </tr>\n",
       "    <tr>\n",
       "      <th>mean</th>\n",
       "      <td>0.684211</td>\n",
       "    </tr>\n",
       "    <tr>\n",
       "      <th>std</th>\n",
       "      <td>0.464956</td>\n",
       "    </tr>\n",
       "    <tr>\n",
       "      <th>min</th>\n",
       "      <td>0.000000</td>\n",
       "    </tr>\n",
       "    <tr>\n",
       "      <th>25%</th>\n",
       "      <td>0.000000</td>\n",
       "    </tr>\n",
       "    <tr>\n",
       "      <th>50%</th>\n",
       "      <td>1.000000</td>\n",
       "    </tr>\n",
       "    <tr>\n",
       "      <th>75%</th>\n",
       "      <td>1.000000</td>\n",
       "    </tr>\n",
       "    <tr>\n",
       "      <th>max</th>\n",
       "      <td>1.000000</td>\n",
       "    </tr>\n",
       "  </tbody>\n",
       "</table>\n",
       "</div>"
      ],
      "text/plain": [
       "       binary classification (expected output)\n",
       "count                              1843.000000\n",
       "mean                                  0.684211\n",
       "std                                   0.464956\n",
       "min                                   0.000000\n",
       "25%                                   0.000000\n",
       "50%                                   1.000000\n",
       "75%                                   1.000000\n",
       "max                                   1.000000"
      ]
     },
     "execution_count": 872,
     "metadata": {},
     "output_type": "execute_result"
    }
   ],
   "source": [
    "# Check the first few rows of your dataset\n",
    "data.head()\n",
    "data.info()\n",
    "data.describe()"
   ]
  },
  {
   "cell_type": "code",
   "execution_count": null,
   "metadata": {},
   "outputs": [],
   "source": [
    "pd.set_option('display.max_rows', None)\n",
    "for index, row in data.iterrows():\n",
    "    print(str(index) + \" \" + f\"Email Subject: {row['email subject']} - Classification: {row['binary classification (expected output)']}\")\n",
    "pd.reset_option('display.max_rows')"
   ]
  },
  {
   "cell_type": "code",
   "execution_count": 931,
   "metadata": {},
   "outputs": [
    {
     "name": "stdout",
     "output_type": "stream",
     "text": [
      "dataset_yoomin\n",
      "<class 'pandas.core.frame.DataFrame'>\n",
      "RangeIndex: 87 entries, 0 to 86\n",
      "Data columns (total 3 columns):\n",
      " #   Column                                   Non-Null Count  Dtype  \n",
      "---  ------                                   --------------  -----  \n",
      " 0   email subject                            87 non-null     object \n",
      " 1   email body                               87 non-null     object \n",
      " 2   binary classification (expected output)  80 non-null     float64\n",
      "dtypes: float64(1), object(2)\n",
      "memory usage: 2.2+ KB\n"
     ]
    }
   ],
   "source": [
    "import pandas as pd\n",
    "\n",
    "# Assuming 'datasets' is a dictionary of DataFrames and 'first_dataset_name' is the key for the first dataset\n",
    "first_dataset_name = list(datasets.keys())[0]\n",
    "print(first_dataset_name)\n",
    "first_dataset = datasets[first_dataset_name]\n",
    "\n",
    "for index, row in data.iterrows():\n",
    "    mask = (first_dataset['email subject'] == row['email subject']) & (first_dataset['email body'] == row['email body'])\n",
    "    first_dataset.loc[mask, 'binary classification (expected output)'] = row['binary classification (expected output)']\n",
    "\n",
    "first_dataset.info()\n"
   ]
  },
  {
   "cell_type": "code",
   "execution_count": 932,
   "metadata": {},
   "outputs": [
    {
     "name": "stdout",
     "output_type": "stream",
     "text": [
      "Total unlabeled data: 7\n",
      "Available indices: 7\n",
      "Not enough available indices to sample 20 rows. Sampling 7 rows instead.\n"
     ]
    }
   ],
   "source": [
    "# Function to sample from unlabeled data without duplicates\n",
    "def sample_unlabeled_data(dataset, n, sampled_indices):\n",
    "    # Filter the DataFrame to include only the unlabeled rows\n",
    "    unlabeled_data = dataset[dataset['binary classification (expected output)'].isnull()]\n",
    "    print(f\"Total unlabeled data: {len(unlabeled_data)}\")\n",
    "    # Get available indices that have not been sampled yet\n",
    "    available_indices = unlabeled_data.index.difference(sampled_indices)\n",
    "    print(f\"Available indices: {len(available_indices)}\")\n",
    "    # Check if there are enough available indices to sample\n",
    "    if len(available_indices) < n:\n",
    "        print(f\"Not enough available indices to sample {n} rows. Sampling {len(available_indices)} rows instead.\")\n",
    "        n = len(available_indices)\n",
    "    # Sample from the available indices\n",
    "    sampled_data = unlabeled_data.loc[available_indices].sample(n=n, random_state=42)\n",
    "    # Update the set of sampled indices\n",
    "    sampled_indices.update(sampled_data.index)\n",
    "    return sampled_data\n",
    "\n",
    "sampled_indices = set()\n",
    "sample = sample_unlabeled_data(first_dataset, 20, sampled_indices)\n",
    "\n",
    "# Sample 100 rows from the unlabeled data in the first dataset\n",
    "while len(sampled_indices) < len(data[data['binary classification (expected output)'].isnull()]):\n",
    "    sample = sample_unlabeled_data(data, 20, sampled_indices)\n"
   ]
  },
  {
   "cell_type": "code",
   "execution_count": 933,
   "metadata": {},
   "outputs": [
    {
     "name": "stdout",
     "output_type": "stream",
     "text": [
      "                                          email subject  \\\n",
      "0                  Thank you for applying to Salesforce   \n",
      "1     [Action Requested by 1/10]: Your Wayfair Softw...   \n",
      "2     Your Application for Software Engineering Inte...   \n",
      "3     Update on your application: We're moving forwa...   \n",
      "4                        BlackRock | Application update   \n",
      "...                                                 ...   \n",
      "1885  Your application for Product Manager II, Curat...   \n",
      "1886  Following up on your recent application to Google   \n",
      "1887  Your application for Staff Product Manager, Tr...   \n",
      "1888  Thank you for applying to Salesforce / Associa...   \n",
      "1889  You have applied to Cisco Job Product Manageme...   \n",
      "\n",
      "                                             email body  \\\n",
      "0     Hello, Thank you for considering a career with...   \n",
      "1     Hi there, Thank you for your interest in the S...   \n",
      "2     Dear Hamza, Thank you again for taking the tim...   \n",
      "3     Dear Hamza , Thank you again for taking the ti...   \n",
      "4     Hi Syed Hamza, Thank you for your interest in ...   \n",
      "...                                                 ...   \n",
      "1885  Hi Yoomin, Thank you for your interest in join...   \n",
      "1886  Thanks so much for applying with us Hi Yoomin,...   \n",
      "1887  Hi Yoomin, Thank you for your interest in join...   \n",
      "1888  Dear Yoomin, Thank you for considering a caree...   \n",
      "1889  Hi Yoomin, Thank you for applying at Cisco! We...   \n",
      "\n",
      "      binary classification (expected output)  \\\n",
      "0                                         1.0   \n",
      "1                                         1.0   \n",
      "2                                         1.0   \n",
      "3                                         1.0   \n",
      "4                                         1.0   \n",
      "...                                       ...   \n",
      "1885                                      NaN   \n",
      "1886                                      NaN   \n",
      "1887                                      NaN   \n",
      "1888                                      NaN   \n",
      "1889                                      NaN   \n",
      "\n",
      "                                  cleaned email subject  \\\n",
      "0                             thank applying salesforce   \n",
      "1     action requested 1/10 wayfair software enginee...   \n",
      "2     application software engineering internship re...   \n",
      "3      update application 're moving forward candidates   \n",
      "4                          blackrock application update   \n",
      "...                                                 ...   \n",
      "1885                                                NaN   \n",
      "1886                                                NaN   \n",
      "1887                                                NaN   \n",
      "1888                                                NaN   \n",
      "1889                                                NaN   \n",
      "\n",
      "                                     cleaned email body  \n",
      "0     hello thank considering career salesforce rece...  \n",
      "1     hi thank interest software engineering intern ...  \n",
      "2     dear hamza thank taking time apply software en...  \n",
      "3     dear hamza thank taking time apply software en...  \n",
      "4     hi syed hamza thank interest 2025 summer inter...  \n",
      "...                                                 ...  \n",
      "1885                                                NaN  \n",
      "1886                                                NaN  \n",
      "1887                                                NaN  \n",
      "1888                                                NaN  \n",
      "1889                                                NaN  \n",
      "\n",
      "[1890 rows x 5 columns]\n"
     ]
    }
   ],
   "source": [
    "data = pd.concat([data, sample], ignore_index=True)\n",
    "print(data)"
   ]
  },
  {
   "cell_type": "code",
   "execution_count": 934,
   "metadata": {},
   "outputs": [
    {
     "name": "stdout",
     "output_type": "stream",
     "text": [
      "<class 'pandas.core.frame.DataFrame'>\n",
      "RangeIndex: 1890 entries, 0 to 1889\n",
      "Data columns (total 5 columns):\n",
      " #   Column                                   Non-Null Count  Dtype  \n",
      "---  ------                                   --------------  -----  \n",
      " 0   email subject                            1890 non-null   object \n",
      " 1   email body                               1890 non-null   object \n",
      " 2   binary classification (expected output)  1883 non-null   float64\n",
      " 3   cleaned email subject                    905 non-null    object \n",
      " 4   cleaned email body                       905 non-null    object \n",
      "dtypes: float64(1), object(4)\n",
      "memory usage: 74.0+ KB\n"
     ]
    },
    {
     "data": {
      "text/html": [
       "<div>\n",
       "<style scoped>\n",
       "    .dataframe tbody tr th:only-of-type {\n",
       "        vertical-align: middle;\n",
       "    }\n",
       "\n",
       "    .dataframe tbody tr th {\n",
       "        vertical-align: top;\n",
       "    }\n",
       "\n",
       "    .dataframe thead th {\n",
       "        text-align: right;\n",
       "    }\n",
       "</style>\n",
       "<table border=\"1\" class=\"dataframe\">\n",
       "  <thead>\n",
       "    <tr style=\"text-align: right;\">\n",
       "      <th></th>\n",
       "      <th>binary classification (expected output)</th>\n",
       "    </tr>\n",
       "  </thead>\n",
       "  <tbody>\n",
       "    <tr>\n",
       "      <th>count</th>\n",
       "      <td>1883.000000</td>\n",
       "    </tr>\n",
       "    <tr>\n",
       "      <th>mean</th>\n",
       "      <td>0.689326</td>\n",
       "    </tr>\n",
       "    <tr>\n",
       "      <th>std</th>\n",
       "      <td>0.462893</td>\n",
       "    </tr>\n",
       "    <tr>\n",
       "      <th>min</th>\n",
       "      <td>0.000000</td>\n",
       "    </tr>\n",
       "    <tr>\n",
       "      <th>25%</th>\n",
       "      <td>0.000000</td>\n",
       "    </tr>\n",
       "    <tr>\n",
       "      <th>50%</th>\n",
       "      <td>1.000000</td>\n",
       "    </tr>\n",
       "    <tr>\n",
       "      <th>75%</th>\n",
       "      <td>1.000000</td>\n",
       "    </tr>\n",
       "    <tr>\n",
       "      <th>max</th>\n",
       "      <td>1.000000</td>\n",
       "    </tr>\n",
       "  </tbody>\n",
       "</table>\n",
       "</div>"
      ],
      "text/plain": [
       "       binary classification (expected output)\n",
       "count                              1883.000000\n",
       "mean                                  0.689326\n",
       "std                                   0.462893\n",
       "min                                   0.000000\n",
       "25%                                   0.000000\n",
       "50%                                   1.000000\n",
       "75%                                   1.000000\n",
       "max                                   1.000000"
      ]
     },
     "execution_count": 934,
     "metadata": {},
     "output_type": "execute_result"
    }
   ],
   "source": [
    "data.head()\n",
    "data.info()\n",
    "data.describe()"
   ]
  },
  {
   "cell_type": "code",
   "execution_count": 935,
   "metadata": {},
   "outputs": [
    {
     "name": "stdout",
     "output_type": "stream",
     "text": [
      "<class 'pandas.core.frame.DataFrame'>\n",
      "RangeIndex: 1890 entries, 0 to 1889\n",
      "Data columns (total 5 columns):\n",
      " #   Column                                   Non-Null Count  Dtype  \n",
      "---  ------                                   --------------  -----  \n",
      " 0   email subject                            1890 non-null   object \n",
      " 1   email body                               1890 non-null   object \n",
      " 2   binary classification (expected output)  1883 non-null   float64\n",
      " 3   cleaned email subject                    905 non-null    object \n",
      " 4   cleaned email body                       905 non-null    object \n",
      "dtypes: float64(1), object(4)\n",
      "memory usage: 74.0+ KB\n"
     ]
    },
    {
     "data": {
      "text/html": [
       "<div>\n",
       "<style scoped>\n",
       "    .dataframe tbody tr th:only-of-type {\n",
       "        vertical-align: middle;\n",
       "    }\n",
       "\n",
       "    .dataframe tbody tr th {\n",
       "        vertical-align: top;\n",
       "    }\n",
       "\n",
       "    .dataframe thead th {\n",
       "        text-align: right;\n",
       "    }\n",
       "</style>\n",
       "<table border=\"1\" class=\"dataframe\">\n",
       "  <thead>\n",
       "    <tr style=\"text-align: right;\">\n",
       "      <th></th>\n",
       "      <th>binary classification (expected output)</th>\n",
       "    </tr>\n",
       "  </thead>\n",
       "  <tbody>\n",
       "    <tr>\n",
       "      <th>count</th>\n",
       "      <td>1883.000000</td>\n",
       "    </tr>\n",
       "    <tr>\n",
       "      <th>mean</th>\n",
       "      <td>0.689326</td>\n",
       "    </tr>\n",
       "    <tr>\n",
       "      <th>std</th>\n",
       "      <td>0.462893</td>\n",
       "    </tr>\n",
       "    <tr>\n",
       "      <th>min</th>\n",
       "      <td>0.000000</td>\n",
       "    </tr>\n",
       "    <tr>\n",
       "      <th>25%</th>\n",
       "      <td>0.000000</td>\n",
       "    </tr>\n",
       "    <tr>\n",
       "      <th>50%</th>\n",
       "      <td>1.000000</td>\n",
       "    </tr>\n",
       "    <tr>\n",
       "      <th>75%</th>\n",
       "      <td>1.000000</td>\n",
       "    </tr>\n",
       "    <tr>\n",
       "      <th>max</th>\n",
       "      <td>1.000000</td>\n",
       "    </tr>\n",
       "  </tbody>\n",
       "</table>\n",
       "</div>"
      ],
      "text/plain": [
       "       binary classification (expected output)\n",
       "count                              1883.000000\n",
       "mean                                  0.689326\n",
       "std                                   0.462893\n",
       "min                                   0.000000\n",
       "25%                                   0.000000\n",
       "50%                                   1.000000\n",
       "75%                                   1.000000\n",
       "max                                   1.000000"
      ]
     },
     "execution_count": 935,
     "metadata": {},
     "output_type": "execute_result"
    }
   ],
   "source": [
    "# Check for missing values\n",
    "data.isnull().sum()\n",
    "\n",
    "# Drop rows with missing values (if necessary)\n",
    "data.dropna(subset=['email subject', 'email body'], inplace=True)\n",
    "\n",
    "#drop rows that are duplicates\n",
    "data.drop_duplicates(subset=['email subject', 'email body'], inplace=True)\n",
    "\n",
    "# Optionally, inspect cleaned data\n",
    "data.head()\n",
    "data.info()\n",
    "data.describe()"
   ]
  },
  {
   "cell_type": "code",
   "execution_count": 936,
   "metadata": {},
   "outputs": [],
   "source": [
    "from nltk.corpus import stopwords\n",
    "from nltk.tokenize import word_tokenize\n",
    "import string\n",
    "\n",
    "# Define a function to clean the text\n",
    "def clean_text(text):\n",
    "    # Tokenize and lower case the text\n",
    "    text = text.lower()\n",
    "    tokens = word_tokenize(text)\n",
    "    \n",
    "    # Remove stopwords and punctuation\n",
    "    stop_words = set(stopwords.words('english'))\n",
    "    cleaned_tokens = [word for word in tokens if word not in stop_words and word not in string.punctuation]\n",
    "    \n",
    "    return \" \".join(cleaned_tokens)\n",
    "\n",
    "clean_data = data.copy()\n",
    "\n",
    "# Apply the cleaning function to both 'email subject' and 'email body'\n",
    "clean_data['cleaned email subject'] = data['email subject'].apply(clean_text)\n",
    "clean_data['cleaned email body'] = data['email body'].apply(clean_text)\n"
   ]
  },
  {
   "cell_type": "code",
   "execution_count": 849,
   "metadata": {},
   "outputs": [
    {
     "name": "stdout",
     "output_type": "stream",
     "text": [
      "3.8.1\n"
     ]
    }
   ],
   "source": [
    "import nltk\n",
    "\n",
    "print(nltk.__version__)\n"
   ]
  },
  {
   "cell_type": "code",
   "execution_count": 937,
   "metadata": {},
   "outputs": [],
   "source": [
    "import os\n",
    "def save_accuracy_score(accuracy, file_path='accuracy_scores.csv'):\n",
    "    # Check if the file exists and is not empty\n",
    "    if not os.path.exists(file_path) or os.path.getsize(file_path) == 0:\n",
    "        # Create a new DataFrame with headers if the file does not exist or is empty\n",
    "        scores_df = pd.DataFrame(columns=['Iteration', 'Accuracy'])\n",
    "    else:\n",
    "        # Load existing scores if the file exists and is not empty\n",
    "        scores_df = pd.read_csv(file_path)\n",
    "\n",
    "    # Append the new accuracy score\n",
    "    new_score = {'Iteration': len(scores_df) + 1, 'Accuracy': accuracy}\n",
    "    scores_df = pd.concat([scores_df, pd.DataFrame([new_score])], ignore_index=True)\n",
    "\n",
    "    # Save the updated scores to the file\n",
    "    scores_df.to_csv(file_path, index=False)"
   ]
  },
  {
   "cell_type": "code",
   "execution_count": 938,
   "metadata": {},
   "outputs": [],
   "source": [
    "import pandas as pd\n",
    "from sklearn.feature_extraction.text import TfidfVectorizer\n",
    "from sklearn.model_selection import train_test_split\n",
    "from sklearn.preprocessing import LabelEncoder"
   ]
  },
  {
   "cell_type": "code",
   "execution_count": 939,
   "metadata": {},
   "outputs": [],
   "source": [
    "# Combine the subject and body into a single text feature\n",
    "clean_data['combined_text'] = clean_data['cleaned email subject'] + \" \" + clean_data['cleaned email body']\n",
    "\n",
    "# Define your features (X) and labels (y)\n",
    "X = clean_data['combined_text']\n",
    "y = data['binary classification (expected output)']  # This should be a column with binary labels (1 for job applications, 0 otherwise)"
   ]
  },
  {
   "cell_type": "code",
   "execution_count": 940,
   "metadata": {},
   "outputs": [],
   "source": [
    "# Encode labels into binary format\n",
    "label_encoder = LabelEncoder()\n",
    "y = label_encoder.fit_transform(y)"
   ]
  },
  {
   "cell_type": "code",
   "execution_count": 941,
   "metadata": {},
   "outputs": [
    {
     "name": "stdout",
     "output_type": "stream",
     "text": [
      "Number of labeled data points: 1883\n",
      "Number of unlabeled data points: 7\n"
     ]
    }
   ],
   "source": [
    "from sklearn.linear_model import LogisticRegression\n",
    "\n",
    "# Align indices before separating labeled and unlabeled data\n",
    "aligned_index = clean_data.index.intersection(data.index)\n",
    "\n",
    "# Separate labeled and unlabeled data\n",
    "labeled_data = clean_data.loc[aligned_index][data['binary classification (expected output)'].notnull()]\n",
    "before_labeled_data = len(labeled_data)\n",
    "\n",
    "unlabeled_data = clean_data.loc[aligned_index][data['binary classification (expected output)'].isnull()]\n",
    "before_unlabeled_data = len(unlabeled_data)\n",
    "\n",
    "print(\"Number of labeled data points:\", before_labeled_data)\n",
    "print(\"Number of unlabeled data points:\", before_unlabeled_data)\n",
    "# check whether unlabeled data is empty\n",
    "if unlabeled_data.empty:\n",
    "    print(\"All the data is labeled\")"
   ]
  },
  {
   "cell_type": "code",
   "execution_count": 942,
   "metadata": {},
   "outputs": [],
   "source": [
    "def correct_prediction(incorrect_index, run_function):\n",
    "    if incorrect_index is None or not run_function:\n",
    "        return\n",
    "    try:\n",
    "        # Correct the prediction for the given index\n",
    "        unlabeled_data.at[incorrect_index, 'predictions'] = 1\n",
    "        # print(\"This works\")\n",
    "    except:\n",
    "        print(\"Index out of range\")\n",
    "        return"
   ]
  },
  {
   "cell_type": "code",
   "execution_count": 943,
   "metadata": {},
   "outputs": [
    {
     "name": "stdout",
     "output_type": "stream",
     "text": [
      "                                          email subject  \\\n",
      "1883                  Thank you for applying to Samsara   \n",
      "1884        Barclays: We’ve received your application!    \n",
      "1885  Your application for Product Manager II, Curat...   \n",
      "1886  Following up on your recent application to Google   \n",
      "1887  Your application for Staff Product Manager, Tr...   \n",
      "1888  Thank you for applying to Salesforce / Associa...   \n",
      "1889  You have applied to Cisco Job Product Manageme...   \n",
      "\n",
      "                                             email body  \\\n",
      "1883  Dear Yoomin, Thank you for applying to the Ass...   \n",
      "1884  Subject: Yoomin Choi ‎- 90392884 Full Stack De...   \n",
      "1885  Hi Yoomin, Thank you for your interest in join...   \n",
      "1886  Thanks so much for applying with us Hi Yoomin,...   \n",
      "1887  Hi Yoomin, Thank you for your interest in join...   \n",
      "1888  Dear Yoomin, Thank you for considering a caree...   \n",
      "1889  Hi Yoomin, Thank you for applying at Cisco! We...   \n",
      "\n",
      "      binary classification (expected output)  \\\n",
      "1883                                      NaN   \n",
      "1884                                      NaN   \n",
      "1885                                      NaN   \n",
      "1886                                      NaN   \n",
      "1887                                      NaN   \n",
      "1888                                      NaN   \n",
      "1889                                      NaN   \n",
      "\n",
      "                                  cleaned email subject  \\\n",
      "1883                             thank applying samsara   \n",
      "1884                    barclays ’ received application   \n",
      "1885  application product manager ii curation pinterest   \n",
      "1886                following recent application google   \n",
      "1887  application staff product manager trust safety...   \n",
      "1888  thank applying salesforce associate product ma...   \n",
      "1889  applied cisco job product management specialis...   \n",
      "\n",
      "                                     cleaned email body  \\\n",
      "1883  dear yoomin thank applying associate product m...   \n",
      "1884  subject yoomin choi ‎- 90392884 full stack dev...   \n",
      "1885  hi yoomin thank interest joining pinterest tea...   \n",
      "1886  thanks much applying us hi yoomin googler rece...   \n",
      "1887  hi yoomin thank interest joining pinterest tea...   \n",
      "1888  dear yoomin thank considering career salesforc...   \n",
      "1889  hi yoomin thank applying cisco think 's great ...   \n",
      "\n",
      "                                          combined_text  \n",
      "1883  thank applying samsara dear yoomin thank apply...  \n",
      "1884  barclays ’ received application subject yoomin...  \n",
      "1885  application product manager ii curation pinter...  \n",
      "1886  following recent application google thanks muc...  \n",
      "1887  application staff product manager trust safety...  \n",
      "1888  thank applying salesforce associate product ma...  \n",
      "1889  applied cisco job product management specialis...  \n"
     ]
    }
   ],
   "source": [
    "print(unlabeled_data)"
   ]
  },
  {
   "cell_type": "code",
   "execution_count": 944,
   "metadata": {},
   "outputs": [
    {
     "name": "stdout",
     "output_type": "stream",
     "text": [
      "7\n",
      "[1 1 1 1 1 1 1]\n"
     ]
    }
   ],
   "source": [
    "import joblib\n",
    "\n",
    "tfidf_vectorizer = joblib.load('tfidf_vectorizer.pkl')\n",
    "classifier = joblib.load('email_classifier.pkl')\n",
    "\n",
    "predictions = classifier.predict(tfidf_vectorizer.transform(unlabeled_data['combined_text']))\n",
    "print(len(predictions))\n",
    "print(predictions)\n",
    "unlabeled_data['predictions'] = predictions"
   ]
  },
  {
   "cell_type": "code",
   "execution_count": 945,
   "metadata": {},
   "outputs": [
    {
     "name": "stdout",
     "output_type": "stream",
     "text": [
      "Index: 1883 Text: Dear Yoomin, Thank you for applying to the Associate Product Manager role and for choosing Samsara in your job search! Your interest means a lot to us, and we're grateful for your application. Our recruiters are actively reviewing applications every day, and we will be in touch about next steps if you are selected to move forward in the application process. In the meantime, please get to know us more: Learn about our mission and values Follow us on LinkedIn for the latest updates Explore Samsara Careers for additional opportunities Warm regards, Samsara’s Recruiting Team ** Please note: Do not reply directly to this email.\n",
      "Prediction: 1\n",
      "\n",
      "Index: 1884 Text: Subject: Yoomin Choi ‎- 90392884 Full Stack Developer Barclays Email Classification: Restricted - External Dear Yoomin, Thank you for applying to Barclays and for the time and effort you’ve put into exploring a role with us. We wanted to let you know we’ve received your application and are currently reviewing it. Your application is important to us, and we’ll keep you updated on the progress of your application as we move through the selection process. If you have selected to receive email updates, we will email you updates on your progress. Alternatively, you can access updates through your candidate profile on our career site. We’d like to encourage you to please review your candidate profile on a regular basis to ensure that your details and preferences are up to date. If you have any specific needs and/or require additional support, please ensure that you highlight these to the Recruiter so we can make sure that we put appropriate adjustments/accommodations in place. Thank you for considering a career with Barclays and best of luck with your application. Kind regards Barclays Talent Acquisition Team This mailbox is not monitored, please do not reply to this email. This email was intended for yoominchoi02@gmail.com\n",
      "Prediction: 1\n",
      "\n",
      "Index: 1885 Text: Hi Yoomin, Thank you for your interest in joining the Pinterest team! We appreciate the time you took to apply for a role with us and are excited to learn about your skills and experience. We are carefully reviewing each application. If your qualifications align with the requirements of the role, you can expect to hear from one of our recruiters. As we review your application, find inspiration from the people behind the product by exploring our Life at Pinterest Blog for a glimpse behind the curtain into our company culture and discover what it’s like to be a Pinterest employee. Additionally, we invite you to join our Talent Community to stay connected with our latest news, company updates and events. We sincerely appreciate your patience throughout this process. Thanks again, Pinterest Recruiting\n",
      "Prediction: 1\n",
      "\n",
      "Index: 1886 Text: Thanks so much for applying with us Hi Yoomin, A Googler recently invited you to apply for the UX Engineer, Early Career - Sunnyvale role. We carefully reviewed your background and experience, and decided not to proceed with your application at this time. Although this role didn't work out, we may contact you if we come across another opening that we think could interest you and that matches your skills and experience. Also, if you applied for any other roles with us recently, look for an update on them soon. Thanks again for your interest, Ayesha Jabeen (xWF), Google recruiting © 2018 Google LLC 1600 Amphitheatre Parkway, Mountain View, CA 94043 You have received this message because you recently applied for a job at Google.\n",
      "Prediction: 1\n",
      "\n",
      "Index: 1887 Text: Hi Yoomin, Thank you for your interest in joining the Pinterest team! We appreciate the time you took to apply for a role with us and are excited to learn about your skills and experience. We are carefully reviewing each application. If your qualifications align with the requirements of the role, you can expect to hear from one of our recruiters. As we review your application, find inspiration from the people behind the product by exploring our Life at Pinterest Blog for a glimpse behind the curtain into our company culture and discover what it’s like to be a Pinterest employee. Additionally, we invite you to join our Talent Community to stay connected with our latest news, company updates and events. We sincerely appreciate your patience throughout this process. Thanks again, Pinterest Recruiting\n",
      "Prediction: 1\n",
      "\n",
      "Index: 1888 Text: Dear Yoomin, Thank you for considering a career with Salesforce! We received your resume from a Salesforce employee and have reviewed your background and qualifications for the Associate Product Manager to which you were submitted. Your resume has been sent to the recruiter and hiring team for review. The team will be in touch if there is an interest in moving forward. Our teams review applications on a rolling basis, so we appreciate your patience on this process. Thanks so much for your time and consideration. Best regards, The Futureforce University Recruiting Team This email was intended for yoominchoi02@gmail.com salesforce.com inc. · Salesforce Tower, 415 Mission Street, 3rd Floor, San Francisco, CA 94105\n",
      "Prediction: 1\n",
      "\n",
      "Index: 1889 Text: Hi Yoomin, Thank you for applying at Cisco! We think it's a great place to work, and we're excited that you're interested in joining us as a Product Management Specialist I (Full Time) United States, Job ID 1426742 here. What's next? Please upload your resume to your Cisco Careers profile if you haven't done so already. We'll use the information you provided and assess your background based on the role requirements. If there's a potential match for the position, we will contact you to discuss next steps. We may also use this information to consider you for future openings that match your skills and experience, in which case we would contact you directly. To update your profile, view application status, or search for other exciting opportunities, please visit our Cisco Careers . Meanwhile, keep checking for other roles that might match your interests, and even set up job alerts to notify you of any new openings. Thank you again for your interest in Cisco. Best Regards, Cisco Recruiting Email ID: 122 This address is unattended and cannot help with questions or requests. To receive these auto-notifications, please add donotreply@cisco.avature.net to your address book. Follow We Are Cisco ©2024 Cisco and/or its affiliates Jobs Help Cisco.com Privacy Statement Trademarks\n",
      "Prediction: 1\n",
      "\n"
     ]
    }
   ],
   "source": [
    "incorrect_index_list = []\n",
    "for i in incorrect_index_list:\n",
    "    correct_prediction(i, False)\n",
    "\n",
    "unlabeled_data.to_csv(\"new_sample_set_with_predictions.csv\", index=False)\n",
    "\n",
    "# print(unlabeled_data['combined_text'], unlabeled_data['predictions']) \n",
    "# print(unlabeled_data.head())\n",
    "i = 0\n",
    "for text, prediction in zip(unlabeled_data['email body'], unlabeled_data['predictions']):\n",
    "    print(f\"Index: {unlabeled_data.index[i]} Text: {text}\\nPrediction: {prediction}\\n\")\n",
    "    i+=1"
   ]
  },
  {
   "cell_type": "code",
   "execution_count": 895,
   "metadata": {},
   "outputs": [],
   "source": [
    "unlabeled_data.at[1859, 'predictions'] = 0"
   ]
  },
  {
   "cell_type": "code",
   "execution_count": 946,
   "metadata": {},
   "outputs": [],
   "source": [
    "def mapPredictionsToIndices():\n",
    "    index_prediction_map = {}\n",
    "    for i, pred in enumerate(unlabeled_data['predictions']):\n",
    "        if pred not in index_prediction_map:\n",
    "            index_prediction_map[pred] = []\n",
    "        index_prediction_map[pred].append(unlabeled_data.index[i])\n",
    "    \n",
    "    return index_prediction_map"
   ]
  },
  {
   "cell_type": "code",
   "execution_count": 947,
   "metadata": {},
   "outputs": [
    {
     "name": "stdout",
     "output_type": "stream",
     "text": [
      "Prediction: 1, Indices: [1883, 1884, 1885, 1886, 1887, 1888, 1889]\n"
     ]
    }
   ],
   "source": [
    "index_prediction_map = mapPredictionsToIndices()\n",
    "\n",
    "for prediction, indices in index_prediction_map.items():\n",
    "    print(f\"Prediction: {prediction}, Indices: {indices}\")\n"
   ]
  },
  {
   "cell_type": "code",
   "execution_count": 948,
   "metadata": {},
   "outputs": [
    {
     "name": "stdout",
     "output_type": "stream",
     "text": [
      "Unlabeled data is not empty\n"
     ]
    }
   ],
   "source": [
    "# Predict probabilities on unlabeled data\n",
    "X_unlabeled = unlabeled_data['combined_text']\n",
    "try:\n",
    "    print(\"Unlabeled data is not empty\")\n",
    "    X_unlabeled_tfidf = tfidf_vectorizer.transform(X_unlabeled)\n",
    "except:\n",
    "    print(\"Unlabeled data is empty\")"
   ]
  },
  {
   "cell_type": "code",
   "execution_count": 949,
   "metadata": {},
   "outputs": [
    {
     "name": "stdout",
     "output_type": "stream",
     "text": [
      "1886 0.20671578322847606 Thanks so much for applying with us Hi Yoomin, A Googler recently invited you to apply for the UX Engineer, Early Career - Sunnyvale role. We carefully reviewed your background and experience, and decided not to proceed with your application at this time. Although this role didn't work out, we may contact you if we come across another opening that we think could interest you and that matches your skills and experience. Also, if you applied for any other roles with us recently, look for an update on them soon. Thanks again for your interest, Ayesha Jabeen (xWF), Google recruiting © 2018 Google LLC 1600 Amphitheatre Parkway, Mountain View, CA 94043 You have received this message because you recently applied for a job at Google.\n",
      "1889 0.14377319593317595 Hi Yoomin, Thank you for applying at Cisco! We think it's a great place to work, and we're excited that you're interested in joining us as a Product Management Specialist I (Full Time) United States, Job ID 1426742 here. What's next? Please upload your resume to your Cisco Careers profile if you haven't done so already. We'll use the information you provided and assess your background based on the role requirements. If there's a potential match for the position, we will contact you to discuss next steps. We may also use this information to consider you for future openings that match your skills and experience, in which case we would contact you directly. To update your profile, view application status, or search for other exciting opportunities, please visit our Cisco Careers . Meanwhile, keep checking for other roles that might match your interests, and even set up job alerts to notify you of any new openings. Thank you again for your interest in Cisco. Best Regards, Cisco Recruiting Email ID: 122 This address is unattended and cannot help with questions or requests. To receive these auto-notifications, please add donotreply@cisco.avature.net to your address book. Follow We Are Cisco ©2024 Cisco and/or its affiliates Jobs Help Cisco.com Privacy Statement Trademarks\n",
      "1885 0.08648090233507555 Hi Yoomin, Thank you for your interest in joining the Pinterest team! We appreciate the time you took to apply for a role with us and are excited to learn about your skills and experience. We are carefully reviewing each application. If your qualifications align with the requirements of the role, you can expect to hear from one of our recruiters. As we review your application, find inspiration from the people behind the product by exploring our Life at Pinterest Blog for a glimpse behind the curtain into our company culture and discover what it’s like to be a Pinterest employee. Additionally, we invite you to join our Talent Community to stay connected with our latest news, company updates and events. We sincerely appreciate your patience throughout this process. Thanks again, Pinterest Recruiting\n",
      "1887 0.0863128911565546 Hi Yoomin, Thank you for your interest in joining the Pinterest team! We appreciate the time you took to apply for a role with us and are excited to learn about your skills and experience. We are carefully reviewing each application. If your qualifications align with the requirements of the role, you can expect to hear from one of our recruiters. As we review your application, find inspiration from the people behind the product by exploring our Life at Pinterest Blog for a glimpse behind the curtain into our company culture and discover what it’s like to be a Pinterest employee. Additionally, we invite you to join our Talent Community to stay connected with our latest news, company updates and events. We sincerely appreciate your patience throughout this process. Thanks again, Pinterest Recruiting\n",
      "1888 0.07705152629113243 Dear Yoomin, Thank you for considering a career with Salesforce! We received your resume from a Salesforce employee and have reviewed your background and qualifications for the Associate Product Manager to which you were submitted. Your resume has been sent to the recruiter and hiring team for review. The team will be in touch if there is an interest in moving forward. Our teams review applications on a rolling basis, so we appreciate your patience on this process. Thanks so much for your time and consideration. Best regards, The Futureforce University Recruiting Team This email was intended for yoominchoi02@gmail.com salesforce.com inc. · Salesforce Tower, 415 Mission Street, 3rd Floor, San Francisco, CA 94105\n",
      "1883 0.06363452961696836 Dear Yoomin, Thank you for applying to the Associate Product Manager role and for choosing Samsara in your job search! Your interest means a lot to us, and we're grateful for your application. Our recruiters are actively reviewing applications every day, and we will be in touch about next steps if you are selected to move forward in the application process. In the meantime, please get to know us more: Learn about our mission and values Follow us on LinkedIn for the latest updates Explore Samsara Careers for additional opportunities Warm regards, Samsara’s Recruiting Team ** Please note: Do not reply directly to this email.\n",
      "1884 0.05792397593135823 Subject: Yoomin Choi ‎- 90392884 Full Stack Developer Barclays Email Classification: Restricted - External Dear Yoomin, Thank you for applying to Barclays and for the time and effort you’ve put into exploring a role with us. We wanted to let you know we’ve received your application and are currently reviewing it. Your application is important to us, and we’ll keep you updated on the progress of your application as we move through the selection process. If you have selected to receive email updates, we will email you updates on your progress. Alternatively, you can access updates through your candidate profile on our career site. We’d like to encourage you to please review your candidate profile on a regular basis to ensure that your details and preferences are up to date. If you have any specific needs and/or require additional support, please ensure that you highlight these to the Recruiter so we can make sure that we put appropriate adjustments/accommodations in place. Thank you for considering a career with Barclays and best of luck with your application. Kind regards Barclays Talent Acquisition Team This mailbox is not monitored, please do not reply to this email. This email was intended for yoominchoi02@gmail.com\n"
     ]
    }
   ],
   "source": [
    "probabilities = classifier.predict_proba(X_unlabeled_tfidf)\n",
    "uncertainty = 1 - probabilities.max(axis=1)  # Higher uncertainty = lower confidence\n",
    "unlabeled_data['uncertainty'] = uncertainty\n",
    "\n",
    "# Sort by uncertainty\n",
    "most_uncertain = unlabeled_data.sort_values(by='uncertainty', ascending=False)\n",
    "uncertain_num = len(unlabeled_data)\n",
    "most_uncertain_subset = most_uncertain.index[:uncertain_num]\n",
    "most_uncertain[['email subject', 'email body', 'uncertainty']].index[:uncertain_num]\n",
    "# print the email body of the uncertain_num most uncertain emails\n",
    "for i in range(uncertain_num):\n",
    "    print(most_uncertain.index[i], most_uncertain['uncertainty'].iloc[i], most_uncertain['email body'].iloc[i])\n"
   ]
  },
  {
   "cell_type": "code",
   "execution_count": 950,
   "metadata": {},
   "outputs": [
    {
     "name": "stdout",
     "output_type": "stream",
     "text": [
      "1883    1.0\n",
      "1884    1.0\n",
      "1885    1.0\n",
      "1886    1.0\n",
      "1887    1.0\n",
      "1888    1.0\n",
      "1889    1.0\n",
      "Name: binary classification (expected output), dtype: float64\n"
     ]
    }
   ],
   "source": [
    "indices = []\n",
    "indices = index_prediction_map[1]\n",
    "# I want to label a set number of emails as job applications which ill do with the index\n",
    "# of the most uncertain emails\n",
    "# get the index of the uncertain_num most uncertain emails\n",
    "# index = most_uncertain.index[:uncertain_num]\n",
    "# print(index)\n",
    "# label the emails as job applications\n",
    "data.loc[indices, 'binary classification (expected output)'] = 1.0\n",
    "# check if the emails have been labeled\n",
    "print(data.loc[indices, 'binary classification (expected output)'])"
   ]
  },
  {
   "cell_type": "code",
   "execution_count": 951,
   "metadata": {},
   "outputs": [
    {
     "name": "stdout",
     "output_type": "stream",
     "text": [
      "Series([], Name: binary classification (expected output), dtype: float64)\n"
     ]
    }
   ],
   "source": [
    "import numpy as np\n",
    "# label the other indices in the subset as not job applications\n",
    "not_indices = [val for val in most_uncertain_subset if val not in indices]\n",
    "data.loc[not_indices, 'binary classification (expected output)'] = 0.0\n",
    "print(data.loc[not_indices, 'binary classification (expected output)'])"
   ]
  },
  {
   "cell_type": "code",
   "execution_count": 952,
   "metadata": {},
   "outputs": [
    {
     "name": "stdout",
     "output_type": "stream",
     "text": [
      "0\n",
      "1890\n",
      "7\n",
      "-7\n"
     ]
    }
   ],
   "source": [
    "unlabeled_data = clean_data.loc[aligned_index][data['binary classification (expected output)'].isnull()]\n",
    "after_unlabeled_data = len(unlabeled_data)\n",
    "print(after_unlabeled_data)\n",
    "labeled_data = clean_data.loc[aligned_index][data['binary classification (expected output)'].notnull()]\n",
    "after_labeled_data = len(labeled_data)\n",
    "print(after_labeled_data)\n",
    "\n",
    "print(after_labeled_data - before_labeled_data)\n",
    "print(after_unlabeled_data - before_unlabeled_data)"
   ]
  },
  {
   "cell_type": "code",
   "execution_count": 744,
   "metadata": {},
   "outputs": [
    {
     "name": "stdout",
     "output_type": "stream",
     "text": [
      "0.0\n"
     ]
    }
   ],
   "source": [
    "data.at[438, 'binary classification (expected output)'] = 0.0\n",
    "# show results\n",
    "print(data.loc[1708, 'binary classification (expected output)'])"
   ]
  },
  {
   "cell_type": "code",
   "execution_count": 953,
   "metadata": {},
   "outputs": [],
   "source": [
    "# Define your features (X) and labels (y)\n",
    "X = clean_data['combined_text']\n",
    "y = data['binary classification (expected output)']  # This should be a column with binary labels (1 for job applications, 0 otherwise)\n",
    "\n",
    "label_encoder = LabelEncoder()\n",
    "y = label_encoder.fit_transform(y)\n",
    "\n",
    "X_train, X_test, y_train, y_test = train_test_split(X, y, test_size=0.2, random_state=42)\n",
    "# Initialize the TF-IDF Vectorizer\n",
    "tfidf_vectorizer = TfidfVectorizer(max_features=5000, stop_words='english', ngram_range=(1, 2))\n",
    "\n",
    "# Fit and transform the training data, transform the test data\n",
    "X_train_tfidf = tfidf_vectorizer.fit_transform(X_train)\n",
    "X_test_tfidf = tfidf_vectorizer.transform(X_test)\n"
   ]
  },
  {
   "cell_type": "code",
   "execution_count": 954,
   "metadata": {},
   "outputs": [
    {
     "name": "stdout",
     "output_type": "stream",
     "text": [
      "Accuracy: 0.955026455026455\n",
      "Classification Report:\n",
      "               precision    recall  f1-score   support\n",
      "\n",
      "           0       0.98      0.88      0.93       126\n",
      "           1       0.94      0.99      0.97       252\n",
      "\n",
      "    accuracy                           0.96       378\n",
      "   macro avg       0.96      0.94      0.95       378\n",
      "weighted avg       0.96      0.96      0.95       378\n",
      "\n"
     ]
    }
   ],
   "source": [
    "from sklearn.linear_model import LogisticRegression\n",
    "from sklearn.metrics import classification_report, accuracy_score\n",
    "\n",
    "# Initialize and train the classifier\n",
    "classifier = LogisticRegression()\n",
    "classifier.fit(X_train_tfidf, y_train)\n",
    "\n",
    "# Make predictions\n",
    "y_pred = classifier.predict(X_test_tfidf)\n",
    "\n",
    "# Evaluate the model\n",
    "accuracy = accuracy_score(y_test, y_pred)\n",
    "print(\"Accuracy:\", accuracy)\n",
    "print(\"Classification Report:\\n\", classification_report(y_test, y_pred))\n",
    "\n",
    "save_accuracy_score(accuracy)\n"
   ]
  },
  {
   "cell_type": "code",
   "execution_count": 955,
   "metadata": {},
   "outputs": [
    {
     "data": {
      "text/plain": [
       "['emailClassifier/email_classifier.pkl']"
      ]
     },
     "execution_count": 955,
     "metadata": {},
     "output_type": "execute_result"
    }
   ],
   "source": [
    "import joblib\n",
    "\n",
    "# Save the vectorizer and model\n",
    "joblib.dump(tfidf_vectorizer, 'tfidf_vectorizer.pkl')\n",
    "joblib.dump(classifier, 'email_classifier.pkl')\n",
    "\n",
    "joblib.dump(tfidf_vectorizer, 'emailClassifier/tfidf_vectorizer.pkl')\n",
    "joblib.dump(classifier, 'emailClassifier/email_classifier.pkl')\n"
   ]
  },
  {
   "cell_type": "code",
   "execution_count": 752,
   "metadata": {},
   "outputs": [
    {
     "name": "stdout",
     "output_type": "stream",
     "text": [
      "5000\n"
     ]
    }
   ],
   "source": [
    "print(len(tfidf_vectorizer.vocabulary_))"
   ]
  },
  {
   "cell_type": "code",
   "execution_count": 692,
   "metadata": {},
   "outputs": [
    {
     "name": "stdout",
     "output_type": "stream",
     "text": [
      "Prediction: Job Application\n"
     ]
    }
   ],
   "source": [
    "# Load vectorizer and model\n",
    "loaded_vectorizer = joblib.load('tfidf_vectorizer.pkl')\n",
    "loaded_model = joblib.load('email_classifier.pkl')\n",
    "\n",
    "# Preprocess and vectorize the new email\n",
    "new_email = \"This is a job application for the software engineer position.\"\n",
    "new_email_tfidf = loaded_vectorizer.transform([new_email])\n",
    "\n",
    "# Predict\n",
    "prediction = loaded_model.predict(new_email_tfidf)\n",
    "print(\"Prediction:\", \"Job Application\" if prediction[0] == 1 else \"Not a Job Application\")"
   ]
  },
  {
   "cell_type": "code",
   "execution_count": null,
   "metadata": {
    "vscode": {
     "languageId": "powershell"
    }
   },
   "outputs": [
    {
     "name": "stdout",
     "output_type": "stream",
     "text": [
      "Python 3.11.5\n",
      "Name: scikit-learn\n",
      "Version: 1.2.2\n",
      "Summary: A set of python modules for machine learning and data mining\n",
      "Home-page: http://scikit-learn.org\n",
      "Author: \n",
      "Author-email: \n",
      "License: new BSD\n",
      "Location: /Users/ary/anaconda3/lib/python3.11/site-packages\n",
      "Requires: joblib, numpy, scipy, threadpoolctl\n",
      "Required-by: imbalanced-learn\n",
      "---\n",
      "Name: joblib\n",
      "Version: 1.2.0\n",
      "Summary: Lightweight pipelining with Python functions\n",
      "Home-page: https://joblib.readthedocs.io\n",
      "Author: Gael Varoquaux\n",
      "Author-email: gael.varoquaux@normalesup.org\n",
      "License: BSD\n",
      "Location: /Users/ary/anaconda3/lib/python3.11/site-packages\n",
      "Requires: \n",
      "Required-by: imbalanced-learn, nltk, scikit-learn\n",
      "1.26.3\n"
     ]
    }
   ],
   "source": [
    "!python --version\n",
    "!pip show scikit-learn joblib\n",
    "# code to get the numpy version?\n",
    "import numpy as np\n",
    "print(np.__version__)\n"
   ]
  }
 ],
 "metadata": {
  "kernelspec": {
   "display_name": "Python 3",
   "language": "python",
   "name": "python3"
  },
  "language_info": {
   "codemirror_mode": {
    "name": "ipython",
    "version": 3
   },
   "file_extension": ".py",
   "mimetype": "text/x-python",
   "name": "python",
   "nbconvert_exporter": "python",
   "pygments_lexer": "ipython3",
   "version": "3.11.5"
  }
 },
 "nbformat": 4,
 "nbformat_minor": 2
}
